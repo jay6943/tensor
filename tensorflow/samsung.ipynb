{
    "cells": [
        {
            "cell_type": "code",
            "execution_count": 8,
            "source": [
                "import pandas as pd\r\n",
                "\r\n",
                "df = pd.read_csv('./data/samsung.csv')\r\n",
                "df.head()"
            ],
            "outputs": [
                {
                    "output_type": "execute_result",
                    "data": {
                        "text/html": [
                            "<div>\n",
                            "<style scoped>\n",
                            "    .dataframe tbody tr th:only-of-type {\n",
                            "        vertical-align: middle;\n",
                            "    }\n",
                            "\n",
                            "    .dataframe tbody tr th {\n",
                            "        vertical-align: top;\n",
                            "    }\n",
                            "\n",
                            "    .dataframe thead th {\n",
                            "        text-align: right;\n",
                            "    }\n",
                            "</style>\n",
                            "<table border=\"1\" class=\"dataframe\">\n",
                            "  <thead>\n",
                            "    <tr style=\"text-align: right;\">\n",
                            "      <th></th>\n",
                            "      <th>Date</th>\n",
                            "      <th>Open</th>\n",
                            "      <th>High</th>\n",
                            "      <th>Low</th>\n",
                            "      <th>Close</th>\n",
                            "      <th>Adj Close</th>\n",
                            "      <th>Volume</th>\n",
                            "    </tr>\n",
                            "  </thead>\n",
                            "  <tbody>\n",
                            "    <tr>\n",
                            "      <th>0</th>\n",
                            "      <td>2020-09-08</td>\n",
                            "      <td>57400.0</td>\n",
                            "      <td>58700.0</td>\n",
                            "      <td>57200.0</td>\n",
                            "      <td>58700.0</td>\n",
                            "      <td>56407.398438</td>\n",
                            "      <td>31517520</td>\n",
                            "    </tr>\n",
                            "    <tr>\n",
                            "      <th>1</th>\n",
                            "      <td>2020-09-09</td>\n",
                            "      <td>58200.0</td>\n",
                            "      <td>59300.0</td>\n",
                            "      <td>57800.0</td>\n",
                            "      <td>58400.0</td>\n",
                            "      <td>56119.109375</td>\n",
                            "      <td>30597399</td>\n",
                            "    </tr>\n",
                            "    <tr>\n",
                            "      <th>2</th>\n",
                            "      <td>2020-09-10</td>\n",
                            "      <td>59900.0</td>\n",
                            "      <td>60000.0</td>\n",
                            "      <td>59100.0</td>\n",
                            "      <td>59200.0</td>\n",
                            "      <td>56887.863281</td>\n",
                            "      <td>29923293</td>\n",
                            "    </tr>\n",
                            "    <tr>\n",
                            "      <th>3</th>\n",
                            "      <td>2020-09-11</td>\n",
                            "      <td>59300.0</td>\n",
                            "      <td>59400.0</td>\n",
                            "      <td>58200.0</td>\n",
                            "      <td>59000.0</td>\n",
                            "      <td>56695.679688</td>\n",
                            "      <td>16017098</td>\n",
                            "    </tr>\n",
                            "    <tr>\n",
                            "      <th>4</th>\n",
                            "      <td>2020-09-14</td>\n",
                            "      <td>60200.0</td>\n",
                            "      <td>60800.0</td>\n",
                            "      <td>59900.0</td>\n",
                            "      <td>60400.0</td>\n",
                            "      <td>58040.996094</td>\n",
                            "      <td>20648281</td>\n",
                            "    </tr>\n",
                            "  </tbody>\n",
                            "</table>\n",
                            "</div>"
                        ],
                        "text/plain": [
                            "         Date     Open     High      Low    Close     Adj Close    Volume\n",
                            "0  2020-09-08  57400.0  58700.0  57200.0  58700.0  56407.398438  31517520\n",
                            "1  2020-09-09  58200.0  59300.0  57800.0  58400.0  56119.109375  30597399\n",
                            "2  2020-09-10  59900.0  60000.0  59100.0  59200.0  56887.863281  29923293\n",
                            "3  2020-09-11  59300.0  59400.0  58200.0  59000.0  56695.679688  16017098\n",
                            "4  2020-09-14  60200.0  60800.0  59900.0  60400.0  58040.996094  20648281"
                        ]
                    },
                    "metadata": {},
                    "execution_count": 8
                }
            ],
            "metadata": {}
        },
        {
            "cell_type": "code",
            "execution_count": 9,
            "source": [
                "df.columns"
            ],
            "outputs": [
                {
                    "output_type": "execute_result",
                    "data": {
                        "text/plain": [
                            "Index(['Date', 'Open', 'High', 'Low', 'Close', 'Adj Close', 'Volume'], dtype='object')"
                        ]
                    },
                    "metadata": {},
                    "execution_count": 9
                }
            ],
            "metadata": {}
        },
        {
            "cell_type": "code",
            "execution_count": 13,
            "source": [
                "df.columns[0]"
            ],
            "outputs": [
                {
                    "output_type": "execute_result",
                    "data": {
                        "text/plain": [
                            "'Date'"
                        ]
                    },
                    "metadata": {},
                    "execution_count": 13
                }
            ],
            "metadata": {}
        },
        {
            "cell_type": "code",
            "execution_count": 11,
            "source": [
                "import matplotlib.pyplot as plt\r\n",
                "\r\n",
                "plt.plot(df['Date'], df['Adj Close'])\r\n",
                "plt.xticks([0, len(df['Date'])-1])\r\n",
                "plt.show()"
            ],
            "outputs": [
                {
                    "output_type": "display_data",
                    "data": {
                        "image/png": "[encoded data removed]",
                        "text/plain": [
                            "<Figure size 432x288 with 1 Axes>"
                        ]
                    },
                    "metadata": {
                        "needs_background": "light"
                    }
                }
            ],
            "metadata": {}
        },
        {
            "cell_type": "code",
            "execution_count": 32,
            "source": [
                "import numpy as np\r\n",
                "import pandas as pd\r\n",
                "\r\n",
                "x = np.array([])\r\n",
                "\r\n",
                "for i in range(10): x = np.append(x, [i])\r\n",
                "\r\n",
                "y = x * x\r\n",
                "\r\n",
                "data = {}\r\n",
                "data['Wavelength ($\\mu$m)'] = x\r\n",
                "data['Output power (dBm)'] = y\r\n",
                "\r\n",
                "df = pd.DataFrame(data=data)\r\n",
                "\r\n",
                "df.to_csv('./data/test.csv', index=False)"
            ],
            "outputs": [],
            "metadata": {}
        },
        {
            "cell_type": "code",
            "execution_count": 37,
            "source": [
                "import pandas as pd\r\n",
                "import matplotlib.pyplot as plt\r\n",
                "\r\n",
                "rf = pd.read_csv('./data/test.csv')\r\n",
                "\r\n",
                "plt.plot(rf[rf.columns[0]], rf[rf.columns[1]])\r\n",
                "plt.xlabel(rf.columns[0])\r\n",
                "plt.ylabel(rf.columns[1])\r\n",
                "plt.grid()\r\n",
                "plt.show()"
            ],
            "outputs": [
                {
                    "output_type": "display_data",
                    "data": {
                        "image/png": "[encoded data removed]",
                        "text/plain": [
                            "<Figure size 432x288 with 1 Axes>"
                        ]
                    },
                    "metadata": {
                        "needs_background": "light"
                    }
                }
            ],
            "metadata": {}
        }
    ],
    "metadata": {
        "orig_nbformat": 4,
        "language_info": {
            "name": "python",
            "version": "3.9.6",
            "mimetype": "text/x-python",
            "codemirror_mode": {
                "name": "ipython",
                "version": 3
            },
            "pygments_lexer": "ipython3",
            "nbconvert_exporter": "python",
            "file_extension": ".py"
        },
        "kernelspec": {
            "name": "python3",
            "display_name": "Python 3.9.6 64-bit"
        },
        "interpreter": {
            "hash": "ac59ebe37160ed0dfa835113d9b8498d9f09ceb179beaac4002f036b9467c963"
        }
    },
    "nbformat": 4,
    "nbformat_minor": 2
}