{
    "cells": [
        {
            "cell_type": "code",
            "execution_count": 4,
            "source": [
                "import numpy as np\r\n",
                "\r\n",
                "l_data = np.loadtxt('./data/diabetes.csv', delimiter=',', skiprows=1)\r\n",
                "\r\n",
                "print(l_data)"
            ],
            "outputs": [
                {
                    "output_type": "stream",
                    "name": "stdout",
                    "text": [
                        "[[  6.    148.     72.    ...   0.627  50.      1.   ]\n",
                        " [  1.     85.     66.    ...   0.351  31.      0.   ]\n",
                        " [  8.    183.     64.    ...   0.672  32.      1.   ]\n",
                        " ...\n",
                        " [  5.    121.     72.    ...   0.245  30.      0.   ]\n",
                        " [  1.    126.     60.    ...   0.349  47.      1.   ]\n",
                        " [  1.     93.     70.    ...   0.315  23.      0.   ]]\n"
                    ]
                }
            ],
            "metadata": {}
        },
        {
            "cell_type": "code",
            "execution_count": null,
            "source": [
                "x_data = l_data[:,0:-1]\r\n",
                "y_data = l_data[:,[-1]]\r\n",
                "\r\n",
                "print(x_data.shape)\r\n",
                "print(y_data.shape)"
            ],
            "outputs": [],
            "metadata": {}
        }
    ],
    "metadata": {
        "orig_nbformat": 4,
        "language_info": {
            "name": "python",
            "version": "3.9.6",
            "mimetype": "text/x-python",
            "codemirror_mode": {
                "name": "ipython",
                "version": 3
            },
            "pygments_lexer": "ipython3",
            "nbconvert_exporter": "python",
            "file_extension": ".py"
        },
        "kernelspec": {
            "name": "python3",
            "display_name": "Python 3.9.6 64-bit"
        },
        "interpreter": {
            "hash": "ac59ebe37160ed0dfa835113d9b8498d9f09ceb179beaac4002f036b9467c963"
        }
    },
    "nbformat": 4,
    "nbformat_minor": 2
}