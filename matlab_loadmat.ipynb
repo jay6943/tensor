{
    "cells": [
        {
            "cell_type": "code",
            "execution_count": 5,
            "source": [
                "import scipy.io\r\n",
                "\r\n",
                "mat = scipy.io.loadmat('./data/20200603_1701_51_40G')\r\n",
                "print(mat['X'])\r\n",
                "print(mat['Y'])"
            ],
            "outputs": [
                {
                    "output_type": "stream",
                    "name": "stdout",
                    "text": [
                        "[[-2.46003973e-07]\n",
                        " [-2.45991473e-07]\n",
                        " [-2.45978973e-07]\n",
                        " ...\n",
                        " [ 2.53983533e-07]\n",
                        " [ 2.53996033e-07]\n",
                        " [ 2.54008533e-07]]\n",
                        "[[-0.0035625  -0.07303127 -0.03918751 -0.03918751]\n",
                        " [ 0.02137501  0.04275001 -0.05165627 -0.01959376]\n",
                        " [ 0.03206251  0.06946877  0.03562501 -0.06590627]\n",
                        " ...\n",
                        " [-0.04631252 -0.007125    0.0106875   0.04631252]\n",
                        " [-0.02850001 -0.02671876  0.06590627  0.06590627]\n",
                        " [-0.02315626 -0.02493751  0.04453126  0.09975003]]\n"
                    ]
                }
            ],
            "metadata": {}
        },
        {
            "cell_type": "code",
            "execution_count": 10,
            "source": [
                "print(mat['Y'].shape)\r\n",
                "print(mat['Y'][0])"
            ],
            "outputs": [
                {
                    "output_type": "stream",
                    "name": "stdout",
                    "text": [
                        "(40002, 4)\n",
                        "[-0.0035625  -0.07303127 -0.03918751 -0.03918751]\n"
                    ]
                }
            ],
            "metadata": {}
        },
        {
            "cell_type": "code",
            "execution_count": 8,
            "source": [
                "import matplotlib.pyplot as plt\r\n",
                "\r\n",
                "plt.plot(mat['X'], mat['Y'])\r\n",
                "plt.show()"
            ],
            "outputs": [
                {
                    "output_type": "display_data",
                    "data": {
                        "image/png": "[encoded data removed]",
                        "text/plain": [
                            "<Figure size 432x288 with 1 Axes>"
                        ]
                    },
                    "metadata": {
                        "needs_background": "light"
                    }
                }
            ],
            "metadata": {}
        },
        {
            "cell_type": "code",
            "execution_count": 11,
            "source": [
                "import pandas as pd\r\n",
                "\r\n",
                "df = pd.DataFrame(mat['Y'])\r\n",
                "df.head()"
            ],
            "outputs": [
                {
                    "output_type": "execute_result",
                    "data": {
                        "text/html": [
                            "<div>\n",
                            "<style scoped>\n",
                            "    .dataframe tbody tr th:only-of-type {\n",
                            "        vertical-align: middle;\n",
                            "    }\n",
                            "\n",
                            "    .dataframe tbody tr th {\n",
                            "        vertical-align: top;\n",
                            "    }\n",
                            "\n",
                            "    .dataframe thead th {\n",
                            "        text-align: right;\n",
                            "    }\n",
                            "</style>\n",
                            "<table border=\"1\" class=\"dataframe\">\n",
                            "  <thead>\n",
                            "    <tr style=\"text-align: right;\">\n",
                            "      <th></th>\n",
                            "      <th>0</th>\n",
                            "      <th>1</th>\n",
                            "      <th>2</th>\n",
                            "      <th>3</th>\n",
                            "    </tr>\n",
                            "  </thead>\n",
                            "  <tbody>\n",
                            "    <tr>\n",
                            "      <th>0</th>\n",
                            "      <td>-0.003563</td>\n",
                            "      <td>-0.073031</td>\n",
                            "      <td>-0.039188</td>\n",
                            "      <td>-0.039188</td>\n",
                            "    </tr>\n",
                            "    <tr>\n",
                            "      <th>1</th>\n",
                            "      <td>0.021375</td>\n",
                            "      <td>0.042750</td>\n",
                            "      <td>-0.051656</td>\n",
                            "      <td>-0.019594</td>\n",
                            "    </tr>\n",
                            "    <tr>\n",
                            "      <th>2</th>\n",
                            "      <td>0.032063</td>\n",
                            "      <td>0.069469</td>\n",
                            "      <td>0.035625</td>\n",
                            "      <td>-0.065906</td>\n",
                            "    </tr>\n",
                            "    <tr>\n",
                            "      <th>3</th>\n",
                            "      <td>0.003563</td>\n",
                            "      <td>0.030281</td>\n",
                            "      <td>0.008906</td>\n",
                            "      <td>-0.021375</td>\n",
                            "    </tr>\n",
                            "    <tr>\n",
                            "      <th>4</th>\n",
                            "      <td>-0.044531</td>\n",
                            "      <td>0.044531</td>\n",
                            "      <td>-0.044531</td>\n",
                            "      <td>0.019594</td>\n",
                            "    </tr>\n",
                            "  </tbody>\n",
                            "</table>\n",
                            "</div>"
                        ],
                        "text/plain": [
                            "          0         1         2         3\n",
                            "0 -0.003563 -0.073031 -0.039188 -0.039188\n",
                            "1  0.021375  0.042750 -0.051656 -0.019594\n",
                            "2  0.032063  0.069469  0.035625 -0.065906\n",
                            "3  0.003563  0.030281  0.008906 -0.021375\n",
                            "4 -0.044531  0.044531 -0.044531  0.019594"
                        ]
                    },
                    "metadata": {},
                    "execution_count": 11
                }
            ],
            "metadata": {}
        }
    ],
    "metadata": {
        "orig_nbformat": 4,
        "language_info": {
            "name": "python",
            "version": "3.9.6",
            "mimetype": "text/x-python",
            "codemirror_mode": {
                "name": "ipython",
                "version": 3
            },
            "pygments_lexer": "ipython3",
            "nbconvert_exporter": "python",
            "file_extension": ".py"
        },
        "kernelspec": {
            "name": "python3",
            "display_name": "Python 3.9.6 64-bit"
        },
        "interpreter": {
            "hash": "ac59ebe37160ed0dfa835113d9b8498d9f09ceb179beaac4002f036b9467c963"
        }
    },
    "nbformat": 4,
    "nbformat_minor": 2
}